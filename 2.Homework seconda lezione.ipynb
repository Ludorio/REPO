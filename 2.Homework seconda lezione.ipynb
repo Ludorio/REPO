{
 "cells": [
  {
   "cell_type": "code",
   "execution_count": 115,
   "metadata": {
    "scrolled": true
   },
   "outputs": [
    {
     "name": "stdout",
     "output_type": "stream",
     "text": [
      "31\n",
      "5.166666666666667\n",
      "9\n",
      "0\n"
     ]
    }
   ],
   "source": [
    "#Data questa lista di interi lista = [0,2,5,7,8,9] calcola il massimo, minimo, somma e media dei suoi elementi\n",
    "\n",
    "L = [0, 2, 5, 7, 8, 9,]   \n",
    "\n",
    "\n",
    "#massimo\n",
    "\n",
    "def massimo(L):\n",
    "    a = L[0]\n",
    "    for i in L:\n",
    "        if i > a:\n",
    "            a = i\n",
    "        else:\n",
    "            a = a\n",
    "    print(a)\n",
    "    \n",
    "\n",
    "#minimo\n",
    "\n",
    "def minimo(L):\n",
    "    a = L[0]\n",
    "    for i in L:\n",
    "        if i < a:\n",
    "            a = i\n",
    "        else:\n",
    "            a = a\n",
    "    print(a)  \n",
    "    \n",
    "\n",
    "#somma\n",
    "\n",
    "def somma(L):\n",
    "    s = 0\n",
    "    for i in L:\n",
    "        s = s + i\n",
    "    print(s)\n",
    "\n",
    "\n",
    "#media\n",
    "\n",
    "def media(L):\n",
    "    s = 0\n",
    "    for i in L:\n",
    "        s = s + i\n",
    "    m = s/len(L)\n",
    "    print(m)\n",
    "    \n",
    "#risultati\n",
    "\n",
    "somma(L)\n",
    "media(L)\n",
    "massimo(L)\n",
    "minimo(L)"
   ]
  },
  {
   "cell_type": "code",
   "execution_count": 234,
   "metadata": {},
   "outputs": [
    {
     "name": "stdout",
     "output_type": "stream",
     "text": [
      "La lista intera [10, 5, 28, 39, 36, 66, 96, 7]\n",
      "La lista senza pari [5, 39, 7]\n",
      "[1, 25, 9, 77]\n"
     ]
    }
   ],
   "source": [
    "#Crea una lista vuota, inserisci numeri interi a tuo piacimento alla lista e poi rimuovi da essa solo i numeri pari\n",
    "\n",
    "T = []\n",
    "\n",
    "T = T + [10, 5, 28, 39, 36, 66, 96, 7]\n",
    "\n",
    "print('La lista intera {}'.format(T))\n",
    "\n",
    "for i in T[:]:          #T[:] è una copia di T\n",
    "    if (i % 2 == 0):\n",
    "        T.remove(i)    \n",
    "\n",
    "print('La lista senza pari {}'.format(T))\n",
    "\n",
    "#versione lista compresa\n",
    "\n",
    "S =[1, 2, 25, 26, 38, 66, 10, 9, 54, 77]\n",
    "\n",
    "S = [i for i in S if i % 2 != 0]\n",
    "\n",
    "print(S)"
   ]
  },
  {
   "cell_type": "code",
   "execution_count": 3,
   "metadata": {},
   "outputs": [],
   "source": [
    "#Crea una funzione che restituisca True se la lista di numeri interi \n",
    "#che prende come parametro è una lista di quadrati perfetti (es 4, 9, 16 ecc..), False altrimenti\n",
    "\n",
    "import math\n",
    " \n",
    "Q = [9, 16, 25, 36,] #Lista con quadrati perfetti\n",
    "N = [2, 4, 6, 9,] #Lista controllo\n",
    "\n",
    "def listaquadrata(Q):\n",
    "    v = 0\n",
    "    for i in Q:\n",
    "        if round(math.sqrt(i))**2 == i:\n",
    "            v += 1\n",
    "        else:\n",
    "            v = v\n",
    "    if v == len(Q):\n",
    "        print(v == len(Q))\n",
    "    else:\n",
    "        print(v == len(Q))"
   ]
  },
  {
   "cell_type": "code",
   "execution_count": 4,
   "metadata": {
    "scrolled": true
   },
   "outputs": [
    {
     "name": "stdout",
     "output_type": "stream",
     "text": [
      "True\n",
      "False\n"
     ]
    }
   ],
   "source": [
    "listaquadrata(Q) \n",
    "listaquadrata(N)"
   ]
  },
  {
   "cell_type": "code",
   "execution_count": 5,
   "metadata": {},
   "outputs": [],
   "source": [
    "#Svolgi l'esercizio precedente utilizzando una compresione di liste\n",
    "\n",
    "def lista_quadrata_compresa(Q):\n",
    "    a = [i for i in Q if round(math.sqrt(i))**2 == i]\n",
    "    b = [i for i in Q]\n",
    "    return len(a) == len (b)"
   ]
  },
  {
   "cell_type": "code",
   "execution_count": 6,
   "metadata": {},
   "outputs": [
    {
     "data": {
      "text/plain": [
       "(True, False)"
      ]
     },
     "execution_count": 6,
     "metadata": {},
     "output_type": "execute_result"
    }
   ],
   "source": [
    "lista_quadrata_compresa(Q), lista_quadrata_compresa(N) #Non riesco ad elencarle come ho fatto sopra"
   ]
  },
  {
   "cell_type": "code",
   "execution_count": 68,
   "metadata": {},
   "outputs": [
    {
     "data": {
      "text/plain": [
       "(False, True)"
      ]
     },
     "execution_count": 68,
     "metadata": {},
     "output_type": "execute_result"
    }
   ],
   "source": [
    "#prova formula\n",
    "round(math.sqrt(8))**2 == 8, round(math.sqrt(9))**2 == 9\n"
   ]
  }
 ],
 "metadata": {
  "kernelspec": {
   "display_name": "Python 3",
   "language": "python",
   "name": "python3"
  },
  "language_info": {
   "codemirror_mode": {
    "name": "ipython",
    "version": 3
   },
   "file_extension": ".py",
   "mimetype": "text/x-python",
   "name": "python",
   "nbconvert_exporter": "python",
   "pygments_lexer": "ipython3",
   "version": "3.8.5"
  }
 },
 "nbformat": 4,
 "nbformat_minor": 4
}
