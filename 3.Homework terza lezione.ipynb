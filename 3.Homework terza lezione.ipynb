{
 "cells": [
  {
   "cell_type": "code",
   "execution_count": 2,
   "metadata": {},
   "outputs": [],
   "source": [
    "import numpy as np\n",
    "import numpy.random as rd"
   ]
  },
  {
   "cell_type": "code",
   "execution_count": 3,
   "metadata": {},
   "outputs": [],
   "source": [
    "#Crea una matrice 3x3 con valori compresi tra 0 e 8"
   ]
  },
  {
   "cell_type": "code",
   "execution_count": 4,
   "metadata": {},
   "outputs": [
    {
     "data": {
      "text/plain": [
       "array([[0, 1, 2],\n",
       "       [3, 4, 5],\n",
       "       [6, 7, 8]])"
      ]
     },
     "execution_count": 4,
     "metadata": {},
     "output_type": "execute_result"
    }
   ],
   "source": [
    "x = np.arange(9).reshape(3, 3) \n",
    "\n",
    "x"
   ]
  },
  {
   "cell_type": "code",
   "execution_count": 5,
   "metadata": {},
   "outputs": [],
   "source": [
    "#Crea un vettore random con 30 elementi e trova il valore medio"
   ]
  },
  {
   "cell_type": "code",
   "execution_count": 6,
   "metadata": {},
   "outputs": [
    {
     "data": {
      "text/plain": [
       "array([49, 38, 65, 85, 49,  1, 63,  2, 69, 60, 35, 40, 93, 88,  0,  1, 51,\n",
       "       62, 35, 78,  2, 88, 33, 47, 54, 24, 37, 31, 43, 32])"
      ]
     },
     "execution_count": 6,
     "metadata": {},
     "output_type": "execute_result"
    }
   ],
   "source": [
    "y = rd.randint(0, 100,(30))\n",
    "\n",
    "y"
   ]
  },
  {
   "cell_type": "code",
   "execution_count": 7,
   "metadata": {},
   "outputs": [],
   "source": [
    "def media(y):\n",
    "    a = 0\n",
    "    b = 0\n",
    "    for i in y:\n",
    "        a = a + i\n",
    "        b += 1        \n",
    "    return a/b"
   ]
  },
  {
   "cell_type": "code",
   "execution_count": 8,
   "metadata": {},
   "outputs": [
    {
     "data": {
      "text/plain": [
       "45.166666666666664"
      ]
     },
     "execution_count": 8,
     "metadata": {},
     "output_type": "execute_result"
    }
   ],
   "source": [
    "media(y)"
   ]
  },
  {
   "cell_type": "code",
   "execution_count": 9,
   "metadata": {},
   "outputs": [
    {
     "name": "stdout",
     "output_type": "stream",
     "text": [
      "Media :  45.166666666666664\n"
     ]
    }
   ],
   "source": [
    "print('Media : ', (y.sum())/y.size) #metodo più generico"
   ]
  },
  {
   "cell_type": "code",
   "execution_count": 10,
   "metadata": {},
   "outputs": [],
   "source": [
    "#Trova gli indici degli elementi diversi da zero del seguente array [3,5,0,4,0,8,0]"
   ]
  },
  {
   "cell_type": "code",
   "execution_count": 62,
   "metadata": {},
   "outputs": [
    {
     "data": {
      "text/plain": [
       "(array([3, 5, 0, 4, 0, 8, 0]), numpy.ndarray)"
      ]
     },
     "execution_count": 62,
     "metadata": {},
     "output_type": "execute_result"
    }
   ],
   "source": [
    "z = np.array([3, 5, 0, 4, 0, 8, 0])\n",
    "\n",
    "z, type(z)\n"
   ]
  },
  {
   "cell_type": "code",
   "execution_count": 12,
   "metadata": {},
   "outputs": [
    {
     "name": "stdout",
     "output_type": "stream",
     "text": [
      "all'indice 0 si trova il valore diverso da zero 3\n",
      "all'indice 1 si trova il valore diverso da zero 5\n",
      "all'indice 3 si trova il valore diverso da zero 4\n",
      "all'indice 5 si trova il valore diverso da zero 8\n"
     ]
    }
   ],
   "source": [
    "c = -1\n",
    "for i in z:\n",
    "    c += 1\n",
    "    if i != 0:\n",
    "        print(\"all'indice {} si trova il valore diverso da zero {}\".format(c, i))"
   ]
  },
  {
   "cell_type": "code",
   "execution_count": 63,
   "metadata": {},
   "outputs": [
    {
     "name": "stdout",
     "output_type": "stream",
     "text": [
      "(array([0], dtype=int64),)\n",
      "(array([1], dtype=int64),)\n",
      "(array([3], dtype=int64),)\n",
      "(array([5], dtype=int64),)\n"
     ]
    }
   ],
   "source": [
    "for i in z:                       #per array con più elementi\n",
    "    if i != 0:\n",
    "        b = np.where(i == z)\n",
    "        print(b)"
   ]
  },
  {
   "cell_type": "code",
   "execution_count": 14,
   "metadata": {},
   "outputs": [],
   "source": [
    "#Scrivi un programma per ottenere gli indici degli elementi ordinati di un dato array ,esempio :\n",
    " # -array: [1023 5202 6230 1671 1682 5241 4532]\n",
    " # -indice degli elementi ordinati dell'array :[0 3 4 6 1 5 2]"
   ]
  },
  {
   "cell_type": "code",
   "execution_count": 15,
   "metadata": {},
   "outputs": [],
   "source": [
    "q = np.array([1023, 5202, 6230, 1671, 1682, 5241, 4532])"
   ]
  },
  {
   "cell_type": "code",
   "execution_count": 16,
   "metadata": {},
   "outputs": [
    {
     "data": {
      "text/plain": [
       "array([1023, 5202, 6230, 1671, 1682, 5241, 4532])"
      ]
     },
     "execution_count": 16,
     "metadata": {},
     "output_type": "execute_result"
    }
   ],
   "source": [
    "q"
   ]
  },
  {
   "cell_type": "code",
   "execution_count": 30,
   "metadata": {},
   "outputs": [
    {
     "data": {
      "text/plain": [
       "array([1023, 1671, 1682, 4532, 5202, 5241, 6230])"
      ]
     },
     "execution_count": 30,
     "metadata": {},
     "output_type": "execute_result"
    }
   ],
   "source": [
    "np.sort(q)"
   ]
  },
  {
   "cell_type": "code",
   "execution_count": 19,
   "metadata": {},
   "outputs": [
    {
     "data": {
      "text/plain": [
       "array([0, 3, 4, 6, 1, 5, 2], dtype=int64)"
      ]
     },
     "execution_count": 19,
     "metadata": {},
     "output_type": "execute_result"
    }
   ],
   "source": [
    "np.argsort(q)"
   ]
  },
  {
   "cell_type": "code",
   "execution_count": 36,
   "metadata": {},
   "outputs": [
    {
     "data": {
      "text/plain": [
       "[0, 3, 4, 6, 1, 5, 2]"
      ]
     },
     "execution_count": 36,
     "metadata": {},
     "output_type": "execute_result"
    }
   ],
   "source": [
    "[q[0] for q in sorted(enumerate(q), key=lambda x:x[1])]   \n",
    "\n",
    "#enumerate conta e assegna il valore della posizione/indice\n",
    "#key = lamba crea una funzione anonima (che è callable)"
   ]
  },
  {
   "cell_type": "code",
   "execution_count": 21,
   "metadata": {},
   "outputs": [],
   "source": [
    "#scrivi un programma che calcola la media attraverso la dimensione, in un array 2D"
   ]
  },
  {
   "cell_type": "code",
   "execution_count": 57,
   "metadata": {},
   "outputs": [
    {
     "data": {
      "text/plain": [
       "array([[0, 1],\n",
       "       [2, 3]])"
      ]
     },
     "execution_count": 57,
     "metadata": {},
     "output_type": "execute_result"
    }
   ],
   "source": [
    "f = np.arange(4).reshape(2,2)\n",
    "\n",
    "f"
   ]
  },
  {
   "cell_type": "code",
   "execution_count": 24,
   "metadata": {},
   "outputs": [],
   "source": [
    "def medie(f):\n",
    "    print('media di ogni colonna ',(f.sum(axis=0))/2)\n",
    "    print('media di ogni riga', (f.sum(axis=1))/2)\n",
    "\n",
    "#Per array con più dimensioni fare un ciclio dove il numero\n",
    "#di axis aumenta fino a ranggiungere la dimenisone e dividere per quel valore"
   ]
  },
  {
   "cell_type": "code",
   "execution_count": 25,
   "metadata": {},
   "outputs": [
    {
     "name": "stdout",
     "output_type": "stream",
     "text": [
      "media di ogni colonna  [1. 2.]\n",
      "media di ogni riga [0.5 2.5]\n"
     ]
    }
   ],
   "source": [
    "medie(f)"
   ]
  },
  {
   "cell_type": "code",
   "execution_count": 26,
   "metadata": {},
   "outputs": [
    {
     "name": "stdout",
     "output_type": "stream",
     "text": [
      "[[15 79]\n",
      " [78 10]] \n",
      "\n",
      "media di ogni colonna  [46.5 44.5]\n",
      "media di ogni riga [47. 44.]\n"
     ]
    }
   ],
   "source": [
    "g = rd.randint(1,100,(2,2))\n",
    "\n",
    "print(g, '\\n'),\n",
    "medie(g)"
   ]
  }
 ],
 "metadata": {
  "kernelspec": {
   "display_name": "Python 3",
   "language": "python",
   "name": "python3"
  },
  "language_info": {
   "codemirror_mode": {
    "name": "ipython",
    "version": 3
   },
   "file_extension": ".py",
   "mimetype": "text/x-python",
   "name": "python",
   "nbconvert_exporter": "python",
   "pygments_lexer": "ipython3",
   "version": "3.8.5"
  }
 },
 "nbformat": 4,
 "nbformat_minor": 4
}
