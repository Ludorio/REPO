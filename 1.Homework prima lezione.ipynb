{
 "cells": [
  {
   "cell_type": "code",
   "execution_count": 5,
   "metadata": {},
   "outputs": [
    {
     "data": {
      "text/plain": [
       "10"
      ]
     },
     "execution_count": 5,
     "metadata": {},
     "output_type": "execute_result"
    }
   ],
   "source": [
    "def addizione(a, b):\n",
    "    c = a + b\n",
    "    return c\n",
    "\n",
    "addizione (2, 8)"
   ]
  },
  {
   "cell_type": "code",
   "execution_count": 6,
   "metadata": {},
   "outputs": [
    {
     "data": {
      "text/plain": [
       "15"
      ]
     },
     "execution_count": 6,
     "metadata": {},
     "output_type": "execute_result"
    }
   ],
   "source": [
    "somma = addizione(5,10)\n",
    "\n",
    "somma"
   ]
  },
  {
   "cell_type": "code",
   "execution_count": 7,
   "metadata": {},
   "outputs": [],
   "source": [
    "def concatena2(v, a):             \n",
    "    print((v + a).upper())\n",
    "\n",
    "#la prima funzione, concatena2, dovrebbe bastare da sola per funzionare\n",
    "    \n",
    "def concatena(v, a):\n",
    "    concatena2(v, a)  "
   ]
  },
  {
   "cell_type": "code",
   "execution_count": 8,
   "metadata": {},
   "outputs": [
    {
     "name": "stdout",
     "output_type": "stream",
     "text": [
      "CALZAMAGLIA\n"
     ]
    }
   ],
   "source": [
    "concatena('calza','maglia')"
   ]
  },
  {
   "cell_type": "code",
   "execution_count": 9,
   "metadata": {},
   "outputs": [],
   "source": [
    "def doppiotriplo(a, b):\n",
    "    c = a * 2\n",
    "    d = b * 3\n",
    "    e = print('il doppio di {} è {}, mentre il triplo di {} è {}'.format(a, c, b, d))\n",
    "    return e"
   ]
  },
  {
   "cell_type": "code",
   "execution_count": 10,
   "metadata": {},
   "outputs": [
    {
     "name": "stdout",
     "output_type": "stream",
     "text": [
      "il doppio di 6 è 12, mentre il triplo di 9 è 27\n"
     ]
    }
   ],
   "source": [
    "doppiotriplo(6, 9)"
   ]
  }
 ],
 "metadata": {
  "kernelspec": {
   "display_name": "Python 3",
   "language": "python",
   "name": "python3"
  },
  "language_info": {
   "codemirror_mode": {
    "name": "ipython",
    "version": 3
   },
   "file_extension": ".py",
   "mimetype": "text/x-python",
   "name": "python",
   "nbconvert_exporter": "python",
   "pygments_lexer": "ipython3",
   "version": "3.8.5"
  }
 },
 "nbformat": 4,
 "nbformat_minor": 4
}
